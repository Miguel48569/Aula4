{
 "cells": [
  {
   "cell_type": "code",
   "execution_count": 8,
   "metadata": {},
   "outputs": [],
   "source": [
    "valor1= int(input(\"digite um número inteiro:\"))"
   ]
  },
  {
   "cell_type": "code",
   "execution_count": 9,
   "metadata": {},
   "outputs": [
    {
     "name": "stdout",
     "output_type": "stream",
     "text": [
      "o  valor digitado é: 2\n"
     ]
    }
   ],
   "source": [
    "print(\"o  valor digitado é:\",valor1)"
   ]
  },
  {
   "cell_type": "code",
   "execution_count": 23,
   "metadata": {},
   "outputs": [
    {
     "name": "stdout",
     "output_type": "stream",
     "text": [
      "a soma dos valores digitados é: 8\n"
     ]
    }
   ],
   "source": [
    "valor1= int(input(\"digite um número inteiro:\" ))\n",
    "valor2= int(input(\"digite um número inteiro:\" ))\n",
    "soma= valor1+valor2\n",
    "print (\"a soma dos valores digitados é:\", soma)"
   ]
  },
  {
   "cell_type": "code",
   "execution_count": 24,
   "metadata": {},
   "outputs": [
    {
     "name": "stdout",
     "output_type": "stream",
     "text": [
      "a média é:\n",
      "1º nota: 7.0\n",
      "2º nota: 5.0\n",
      "3º nota:, nota3\n",
      "a média das notas é: 5.333333333333333\n"
     ]
    }
   ],
   "source": [
    "nota1 = float(input('digite a primeira nota: '))\n",
    "nota2 = float(input('digite a segunda nota: '))\n",
    "nota3 = float(input('digite a terceira nota: '))\n",
    "media = (nota1 + nota2 + nota3) / 3\n",
    "print(\"a média é:\")\n",
    "print(\"1º nota:\", nota1)\n",
    "print(\"2º nota:\", nota2)\n",
    "print(\"3º nota:, nota3\")\n",
    "print(\"a média das notas é:\", media)\n"
   ]
  },
  {
   "cell_type": "code",
   "execution_count": 25,
   "metadata": {},
   "outputs": [
    {
     "name": "stdout",
     "output_type": "stream",
     "text": [
      "salario por hora  60 * hora por mês 160 = 9600\n"
     ]
    }
   ],
   "source": [
    "salhora = int(input(\"quanto você ganha por hora:\"))\n",
    "horatrabalho = int(input(\"número de horas trabalhadas no mês:\"))\n",
    "salario = salhora * horatrabalho\n",
    "print(\"salario por hora \", salhora, \"*\", \"hora por mês\", horatrabalho, \"=\", salario)\n"
   ]
  },
  {
   "cell_type": "code",
   "execution_count": 26,
   "metadata": {},
   "outputs": [
    {
     "name": "stdout",
     "output_type": "stream",
     "text": [
      "peso excedido: 10.0 KG\n",
      "multa a ser paga: R$ 40.0\n"
     ]
    }
   ],
   "source": [
    "#lê o peso dos peixes informado pelo usuário\n",
    "peso_peixe = float(input(\"digite o peso de peixes (50 quilos): \"))\n",
    "\n",
    "#definir o limite de peso estabelecido (50 quilos)\n",
    "limite_peso = 50\n",
    "# calcular o excesso de peso(se tiver)\n",
    "excesso = peso_peixe - limite_peso\n",
    "\n",
    "#verificar se há excesso\n",
    "if excesso > 0:\n",
    "    multa = excesso * 4\n",
    "    print(\"peso excedido:\", excesso, \"KG\")\n",
    "    print(\"multa a ser paga: R$\", multa)\n",
    "else:\n",
    "    print(\"peso dentro do limite não há multa.\")"
   ]
  },
  {
   "cell_type": "code",
   "execution_count": null,
   "metadata": {},
   "outputs": [],
   "source": []
  }
 ],
 "metadata": {
  "kernelspec": {
   "display_name": "Python 3",
   "language": "python",
   "name": "python3"
  },
  "language_info": {
   "codemirror_mode": {
    "name": "ipython",
    "version": 3
   },
   "file_extension": ".py",
   "mimetype": "text/x-python",
   "name": "python",
   "nbconvert_exporter": "python",
   "pygments_lexer": "ipython3",
   "version": "3.10.2"
  }
 },
 "nbformat": 4,
 "nbformat_minor": 2
}
